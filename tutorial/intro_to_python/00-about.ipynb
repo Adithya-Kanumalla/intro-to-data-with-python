{
 "cells": [
  {
   "cell_type": "markdown",
   "metadata": {},
   "source": [
    "# Why Python?\n",
    "\n",
    "\n",
    "\n",
    "\n",
    "# Why Jupyter Notebooks?\n",
    "\n",
    "\n",
    "\n",
    "\n",
    "## A brief history\n",
    "\n",
    "\n",
    "# How to use this notebook\n",
    "\n",
    "# Outline of the basics\n",
    "\n",
    "1. numbers, strings, variables, errors\n",
    "1. lists, dictionaries\n",
    "1. loops, conditionals\n",
    "1. functions\n",
    "1. reading and writing to files\n",
    "1. what does import mean - ecosystem"
   ]
  }
 ],
 "metadata": {
  "kernelspec": {
   "display_name": "Python 3",
   "language": "python",
   "name": "python3"
  },
  "language_info": {
   "codemirror_mode": {
    "name": "ipython",
    "version": 3
   },
   "file_extension": ".py",
   "mimetype": "text/x-python",
   "name": "python",
   "nbconvert_exporter": "python",
   "pygments_lexer": "ipython3",
   "version": "3.7.3"
  }
 },
 "nbformat": 4,
 "nbformat_minor": 4
}

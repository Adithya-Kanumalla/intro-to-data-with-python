{
 "cells": [
  {
   "cell_type": "markdown",
   "metadata": {},
   "source": [
    "# Setup"
   ]
  },
  {
   "cell_type": "markdown",
   "metadata": {},
   "source": [
    "## Install Python\n",
    "\n",
    "Anaconda, an all-in-one installer, is recommended for data science.<br>\n",
    "https://www.anaconda.com/distribution/\n",
    "\n",
    "For a more lightweight installation, you can use a package manager like homerew for Mac, or Chocolatey for Windows.  See a guide here: https://docs.python-guide.org/starting/installation/.\n",
    "\n",
    "Regardless of how you choose to install it, please make sure you install Python version 3 (eg 3.7)."
   ]
  },
  {
   "cell_type": "markdown",
   "metadata": {},
   "source": [
    "## Setting up a \"virtual environment\"\n",
    "\n",
    "In the course of working with data or web development, we will have our work grouped as different projects for different purposes.  Since each project has different needs, they would need different tools.\n",
    "\n",
    "The first step in starting a project in Python is to set up a \"virtual environment\".  This is a fancy term that basically means, for each project we work on, we want to set up a different box -- or environment -- to run the project on.  We want to do this because different projects to use different tools.  Each box would have just the tools needed for that project.\n",
    "\n",
    "If we use one box for all our projects, eventually, we'll have too many tools in one box and the tools may be in conflict with one another.\n",
    "\n",
    "More common terms we'll hear for tools in a programming project are \"dependencies\", \"packages\", \"libraries\", or \"modules\".  Technically, these refer to slightly different things, but they are used interchangeably to mean: bundles of code organized and coded for specific purposes, such as the \"random\" module for generating random numbers in all sorts of ways.  Often, these dependencies, packages, libraries, or modules are made by other people."
   ]
  },
  {
   "cell_type": "markdown",
   "metadata": {},
   "source": [
    "## Best practices: setting up venv\n",
    "\n",
    "https://packaging.python.org/tutorials/installing-packages/#creating-virtual-environments"
   ]
  },
  {
   "cell_type": "markdown",
   "metadata": {},
   "source": [
    "## Let's google vertual environment\n",
    "\n",
    "virtualenv docs<br>\n",
    "https://virtualenv.pypa.io/en/latest/\n",
    "<br><br>\n",
    "virtualenv user guide<br>\n",
    "https://virtualenv.pypa.io/en/latest/userguide/"
   ]
  },
  {
   "cell_type": "markdown",
   "metadata": {},
   "source": [
    "## Install packages\n",
    "\n",
    "pandas docs<br>\n",
    "http://pandas.pydata.org/\n",
    "\n",
    "matplotlib docs<br>\n",
    "https://matplotlib.org/\n",
    "\n",
    "jupyter docs<br>\n",
    "https://jupyter.readthedocs.io/en/latest/index.html"
   ]
  },
  {
   "cell_type": "markdown",
   "metadata": {},
   "source": [
    "Options for how to set up virtual environments:\n",
    "\n",
    "### virtualenv\n",
    "\n",
    "virtualenv needs to be installed separately, but supports Python 2.7+ and Python 3.3+"
   ]
  },
  {
   "cell_type": "raw",
   "metadata": {},
   "source": [
    "$ mkdir <environments>\n",
    "$ cd <environments>\n",
    "\n",
    "$ virtualenv -p python3.6 <./py36_env>\n",
    "$ source <py36_env>/bin/activate\n",
    "\n",
    "$ deactivate"
   ]
  },
  {
   "cell_type": "markdown",
   "metadata": {},
   "source": [
    "### pipenv\n",
    "\n",
    "Learn more about pipenv here: https://docs.python-guide.org/dev/virtualenvs/"
   ]
  },
  {
   "cell_type": "markdown",
   "metadata": {},
   "source": [
    "### conda envs"
   ]
  },
  {
   "cell_type": "raw",
   "metadata": {},
   "source": [
    "# create conda envs\n",
    "$ cd ~/anaconda3/envs\n",
    "$ conda create -n python_class matplotlib pandas jupyter\n",
    "\n",
    "# To activate this environment, use:\n",
    "# > conda activate python_class\n",
    "#\n",
    "# To deactivate an active environment, use:\n",
    "# > conda deactivate\n",
    "\n",
    "To initialize your shell, run\n",
    "\n",
    "   $ conda init <SHELL_NAME>\n",
    "\n",
    "Currently supported shells are:\n",
    " - bash\n",
    " - fish\n",
    " - tcsh\n",
    " - xonsh\n",
    " - zsh\n",
    " - powershell\n",
    " \n",
    "Choose bash"
   ]
  },
  {
   "cell_type": "markdown",
   "metadata": {},
   "source": [
    "# Data science best practices with pandas"
   ]
  },
  {
   "cell_type": "markdown",
   "metadata": {},
   "source": [
    "GitHub repository https://github.com/codeparkhouston/intro-to-data-with-python\n",
    "\n",
    "If you want to directly download only the CSV file, right click on the following link and select \"Save As\": ted.csv.\n",
    "\n",
    "Pandas documentations: http://pandas.pydata.org/pandas-docs/stable/"
   ]
  },
  {
   "cell_type": "markdown",
   "metadata": {},
   "source": [
    "## The pandas library is a powerful tool for multiple phases of the data science workflow.\n",
    "\n",
    "* data cleaning \n",
    "* visualization\n",
    "* exploratory data analysis\n",
    "\n",
    "### However, the size and complexity of the pandas library makes it challenging <br>to discover the best way to accomplish any given task."
   ]
  },
  {
   "cell_type": "markdown",
   "metadata": {},
   "source": [
    "### More public data can be found:\n",
    "\n",
    "https://github.com/mwaskom/seaborn-data\n",
    "    \n",
    "https://github.com/rfordatascience/tidytuesday/tree/master/data"
   ]
  },
  {
   "cell_type": "markdown",
   "metadata": {},
   "source": [
    "### Check that pandas and matplotlib are properly installed"
   ]
  },
  {
   "cell_type": "code",
   "execution_count": null,
   "metadata": {},
   "outputs": [],
   "source": [
    "# If you're using the Jupyter notebook, run the following code:\n",
    "\n",
    "import pandas as pd\n",
    "import matplotlib.pyplot as plt\n",
    "%matplotlib inline\n",
    "df = pd.read_csv('../data/ted.csv')\n",
    "df.comments.plot()"
   ]
  },
  {
   "cell_type": "code",
   "execution_count": null,
   "metadata": {},
   "outputs": [],
   "source": [
    "# If you're using any other Python environment other than Jupyter notebook, run the following code:\n",
    "\n",
    "import pandas as pd\n",
    "import matplotlib.pyplot as plt\n",
    "df = pd.read_csv('../data/ted.csv')\n",
    "df.comments.plot()\n",
    "plt.show()"
   ]
  }
 ],
 "metadata": {
  "kernelspec": {
   "display_name": "Python 3",
   "language": "python",
   "name": "python3"
  },
  "language_info": {
   "codemirror_mode": {
    "name": "ipython",
    "version": 3
   },
   "file_extension": ".py",
   "mimetype": "text/x-python",
   "name": "python",
   "nbconvert_exporter": "python",
   "pygments_lexer": "ipython3",
   "version": "3.7.3"
  }
 },
 "nbformat": 4,
 "nbformat_minor": 4
}

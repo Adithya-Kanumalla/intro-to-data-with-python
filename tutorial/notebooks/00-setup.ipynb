{
 "cells": [
  {
   "cell_type": "markdown",
   "metadata": {},
   "source": [
    "# Setup"
   ]
  },
  {
   "cell_type": "markdown",
   "metadata": {},
   "source": [
    "## Install Python\n",
    "\n",
    "Anaconda, an all-in-one installer, is recommended.<br>\n",
    "https://www.anaconda.com/distribution/\n",
    "\n",
    "Regardless of how you choose to install it, please make sure you install Python version 3 (eg 3.7)."
   ]
  },
  {
   "cell_type": "markdown",
   "metadata": {},
   "source": [
    "## The next step (step zero)\n",
    "\n",
    "step 0 is to create vertual environment <br> \n",
    "because you don't want to run your project stuff in your global Python environment\n",
    "and install it's dependencies <br> and mess up all your versions and end up with version conflict."
   ]
  },
  {
   "cell_type": "markdown",
   "metadata": {},
   "source": [
    "## Best practices: setting up venv\n",
    "\n",
    "https://packaging.python.org/tutorials/installing-packages/#creating-virtual-environments"
   ]
  },
  {
   "cell_type": "markdown",
   "metadata": {},
   "source": [
    "## Let's google vertual environment\n",
    "\n",
    "virtualenv docs<br>\n",
    "https://virtualenv.pypa.io/en/latest/\n",
    "<br><br>\n",
    "virtualenv user guide<br>\n",
    "https://virtualenv.pypa.io/en/latest/userguide/"
   ]
  },
  {
   "cell_type": "markdown",
   "metadata": {},
   "source": [
    "## Install packages\n",
    "\n",
    "pandas docs<br>\n",
    "http://pandas.pydata.org/\n",
    "\n",
    "matplotlib docs<br>\n",
    "https://matplotlib.org/\n",
    "\n",
    "jupyter docs<br>\n",
    "https://jupyter.readthedocs.io/en/latest/index.html"
   ]
  },
  {
   "cell_type": "markdown",
   "metadata": {},
   "source": [
    "### 1. virtualenv\n",
    "\n",
    "virtualenv needs to be installed separately, but supports Python 2.7+ and Python 3.3+"
   ]
  },
  {
   "cell_type": "raw",
   "metadata": {},
   "source": [
    "$ mkdir <environments>\n",
    "$ cd <environments>\n",
    "\n",
    "$ virtualenv -p python3.6 <./py36_env>\n",
    "$ source <py36_env>/bin/activate\n",
    "\n",
    "$ deactivate"
   ]
  },
  {
   "cell_type": "markdown",
   "metadata": {},
   "source": [
    "### 2. venv"
   ]
  },
  {
   "cell_type": "raw",
   "metadata": {},
   "source": [
    "https://virtualenv.pypa.io/en/latest/userguide/https://virtualenv.pypa.io/en/latest/userguide/$ mkdir <environments>\n",
    "$ cd <environments>\n",
    "\n",
    "$ python3 -m venv <./enva>\n",
    "$ source enva/bin/activate\n",
    "\n",
    "$ deactivate"
   ]
  },
  {
   "cell_type": "markdown",
   "metadata": {},
   "source": [
    "### 3. conda envs"
   ]
  },
  {
   "cell_type": "raw",
   "metadata": {},
   "source": [
    "# create conda envs\n",
    "$ cd ~/anaconda3/envs\n",
    "$ conda create -n python_class matplotlib pandas jupyter\n",
    "\n",
    "# To activate this environment, use:\n",
    "# > conda activate python_class\n",
    "#\n",
    "# To deactivate an active environment, use:\n",
    "# > conda deactivate\n",
    "\n",
    "To initialize your shell, run\n",
    "\n",
    "   $ conda init <SHELL_NAME>\n",
    "\n",
    "Currently supported shells are:\n",
    " - bash\n",
    " - fish\n",
    " - tcsh\n",
    " - xonsh\n",
    " - zsh\n",
    " - powershell\n",
    " \n",
    "Choose bash"
   ]
  },
  {
   "cell_type": "markdown",
   "metadata": {},
   "source": [
    "# Data science best practices with pandas"
   ]
  },
  {
   "cell_type": "markdown",
   "metadata": {},
   "source": [
    "GitHub repository https://github.com/codeparkhouston/intro-to-data-with-python\n",
    "\n",
    "If you want to directly download only the CSV file, right click on the following link and select \"Save As\": ted.csv.\n",
    "\n",
    "Pandas documentations: http://pandas.pydata.org/pandas-docs/stable/"
   ]
  },
  {
   "cell_type": "markdown",
   "metadata": {},
   "source": [
    "## The pandas library is a powerful tool for multiple phases of the data science workflow.\n",
    "\n",
    "* data cleaning \n",
    "* visualization\n",
    "* exploratory data analysis\n",
    "\n",
    "### However, the size and complexity of the pandas library makes it challenging <br>to discover the best way to accomplish any given task."
   ]
  },
  {
   "cell_type": "markdown",
   "metadata": {},
   "source": [
    "### More public data can be found:\n",
    "\n",
    "https://github.com/mwaskom/seaborn-data\n",
    "    \n",
    "https://github.com/rfordatascience/tidytuesday/tree/master/data"
   ]
  },
  {
   "cell_type": "markdown",
   "metadata": {},
   "source": [
    "### Check that pandas and matplotlib are properly installed"
   ]
  },
  {
   "cell_type": "code",
   "execution_count": null,
   "metadata": {},
   "outputs": [],
   "source": [
    "# If you're using the Jupyter notebook, run the following code:\n",
    "\n",
    "import pandas as pd\n",
    "import matplotlib.pyplot as plt\n",
    "%matplotlib inline\n",
    "df = pd.read_csv('../data/ted.csv')\n",
    "df.comments.plot()"
   ]
  },
  {
   "cell_type": "code",
   "execution_count": null,
   "metadata": {},
   "outputs": [],
   "source": [
    "# If you're using any other Python environment other than Jupyter notebook, run the following code:\n",
    "\n",
    "import pandas as pd\n",
    "import matplotlib.pyplot as plt\n",
    "df = pd.read_csv('../data/ted.csv')\n",
    "df.comments.plot()\n",
    "plt.show()"
   ]
  },
  {
   "cell_type": "code",
   "execution_count": null,
   "metadata": {
    "collapsed": true
   },
   "outputs": [],
   "source": []
  }
 ],
 "metadata": {
  "kernelspec": {
   "display_name": "Python 3",
   "language": "python",
   "name": "python3"
  },
  "language_info": {
   "codemirror_mode": {
    "name": "ipython",
    "version": 3
   },
   "file_extension": ".py",
   "mimetype": "text/x-python",
   "name": "python",
   "nbconvert_exporter": "python",
   "pygments_lexer": "ipython3",
   "version": "3.6.6"
  }
 },
 "nbformat": 4,
 "nbformat_minor": 2
}
